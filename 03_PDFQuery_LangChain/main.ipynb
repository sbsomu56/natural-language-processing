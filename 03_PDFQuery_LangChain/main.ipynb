{
 "cells": [
  {
   "cell_type": "code",
   "execution_count": 1,
   "metadata": {},
   "outputs": [
    {
     "name": "stderr",
     "output_type": "stream",
     "text": [
      "/Users/soumajitbiswas/Desktop/natural-language-processing/.venv/lib/python3.12/site-packages/tqdm/auto.py:21: TqdmWarning: IProgress not found. Please update jupyter and ipywidgets. See https://ipywidgets.readthedocs.io/en/stable/user_install.html\n",
      "  from .autonotebook import tqdm as notebook_tqdm\n"
     ]
    }
   ],
   "source": [
    "from langchain.vectorstores.cassandra import Cassandra\n",
    "from langchain.indexes.vectorstore import VectorStoreIndexWrapper\n",
    "from langchain_ollama.llms import OllamaLLM\n",
    "from langchain.embeddings import OllamaEmbeddings\n",
    "\n",
    "from datasets import load_dataset\n",
    "\n",
    "import cassio\n",
    "from PyPDF2 import PdfReader"
   ]
  },
  {
   "cell_type": "code",
   "execution_count": 2,
   "metadata": {},
   "outputs": [],
   "source": [
    "ASTRA_DB_APPLICATION_TOKEN=\"AstraCS:nmYSfzANwFJqcQhsjbvboAQJ:81029dd121b7e91f15b28438edcf5461380bf225b29d237bd4f4c92e76b23968\"\n",
    "ASTRA_DB_ID=\"bba9e1b3-c8f2-437c-baf4-e57b207d20fd\""
   ]
  },
  {
   "cell_type": "code",
   "execution_count": 3,
   "metadata": {},
   "outputs": [],
   "source": [
    "pdfreader=PdfReader('concall-ppt.pdf')"
   ]
  },
  {
   "cell_type": "code",
   "execution_count": 4,
   "metadata": {},
   "outputs": [],
   "source": [
    "from typing_extensions import Concatenate\n",
    "raw_text=\"\"\n",
    "for i,page in enumerate(pdfreader.pages):\n",
    "    content = page.extract_text()\n",
    "    if content:\n",
    "        raw_text += content"
   ]
  },
  {
   "cell_type": "code",
   "execution_count": 5,
   "metadata": {},
   "outputs": [],
   "source": [
    "cassio.init(\n",
    "    token=ASTRA_DB_APPLICATION_TOKEN,\n",
    "    database_id=ASTRA_DB_ID\n",
    ")"
   ]
  },
  {
   "cell_type": "code",
   "execution_count": 6,
   "metadata": {},
   "outputs": [
    {
     "name": "stderr",
     "output_type": "stream",
     "text": [
      "/var/folders/7j/99g2j2l52sdcr21b1lc2xcjc0000gn/T/ipykernel_40577/1018806059.py:2: LangChainDeprecationWarning: The class `OllamaEmbeddings` was deprecated in LangChain 0.3.1 and will be removed in 1.0.0. An updated version of the class exists in the :class:`~langchain-ollama package and should be used instead. To use it run `pip install -U :class:`~langchain-ollama` and import as `from :class:`~langchain_ollama import OllamaEmbeddings``.\n",
      "  embedding=OllamaEmbeddings(model=\"llama3.2\")\n"
     ]
    }
   ],
   "source": [
    "llm = OllamaLLM(model=\"llama3.2\")\n",
    "embedding=OllamaEmbeddings(model=\"llama3.2\")"
   ]
  },
  {
   "cell_type": "code",
   "execution_count": 7,
   "metadata": {},
   "outputs": [],
   "source": [
    "astra_vector_store = Cassandra(\n",
    "    embedding=embedding,\n",
    "    table_name=\"qa_mini2\",\n",
    "    session=None,\n",
    "    keyspace=None\n",
    ")"
   ]
  },
  {
   "cell_type": "code",
   "execution_count": 8,
   "metadata": {},
   "outputs": [],
   "source": [
    "from langchain.text_splitter import CharacterTextSplitter\n",
    "text_splitter = CharacterTextSplitter(\n",
    "    separator=\"\\n\",\n",
    "    chunk_size=800,\n",
    "    chunk_overlap=200,\n",
    "    length_function=len\n",
    ")\n",
    "texts = text_splitter.split_text(raw_text)"
   ]
  },
  {
   "cell_type": "code",
   "execution_count": 9,
   "metadata": {},
   "outputs": [
    {
     "data": {
      "text/plain": [
       "['APL\\n/SEC/3 1/2024-25 /11 \\n11th November 2024  \\nBSE Limited  \\nPhiroze Jeejeebhoy Towers,  \\nDalal Street,  \\nMumbai – 400 001  \\nSecurity Code: 500820  National Stock Exchange of India Limited \\nExchange Plaza, C -1, Block G,  \\nBandra Kurla Complex, Bandra (East),  \\nMumbai – 400 051  \\nSymbol: ASIANPAINT  \\nSir/Madam,  \\nS\\nub: Intimation under Regulation 30 of the SEBI (Listing Obligations and Disclosure \\nRequirements) Regulations, 2015 - Investor Presentation \\nP\\nursuant to Regulation 30 of the SEBI (Listing Obligations and Disclosure Requirements) \\nRegulations, 2015 (“Listing Regulations”), please find enclosed the presentation being made to \\nthe investors on the business and financial performance of the Company for the quarter and half  \\nyear ended 30th September 2024.  \\nThe audi',\n",
       " 'the investors on the business and financial performance of the Company for the quarter and half  \\nyear ended 30th September 2024.  \\nThe audi\\no recording and transcript of the Investors Conference will be uploaded on the website  \\nof the Company ( www.asianpaints.com ) and the Stock Exchanges, as prescribed under the  \\nListing Regulations.  \\nY\\nou are requested to take the above information on record.  \\nThank\\ning you,  \\nY\\nours truly,  \\nFor\\n ASIAN PAINTS LIMITED  \\nR J\\n JEYAMURUGAN  \\nCFO & COMPANY SECRETARY  \\nE\\nncl.: As above  1\\nasianpaints \\nInvestor Conference \\nQ2 -FY2025 Results 2\\nDelivering joy since 1942….\\nWe exist to Beautify, Preserve, Transform all Spaces and Objects, \\nbringing happiness to the World!\\n3Disclaimer']"
      ]
     },
     "execution_count": 9,
     "metadata": {},
     "output_type": "execute_result"
    }
   ],
   "source": [
    "texts[:2]"
   ]
  },
  {
   "cell_type": "code",
   "execution_count": 10,
   "metadata": {},
   "outputs": [],
   "source": [
    "astra_vector_store.add_texts(texts=texts)\n",
    "astra_vector_index = VectorStoreIndexWrapper(vectorstore=astra_vector_store)"
   ]
  },
  {
   "cell_type": "code",
   "execution_count": 13,
   "metadata": {},
   "outputs": [],
   "source": [
    "query_text = \"Any new products introduced?\"\n",
    "answer = astra_vector_index.query(query_text,llm=llm).strip()"
   ]
  },
  {
   "cell_type": "code",
   "execution_count": 14,
   "metadata": {},
   "outputs": [
    {
     "data": {
      "text/plain": [
       "'Yes, the company has introduced several new products. Specifically, it mentions:\\n\\n* New collections of Wallcoverings, Rugs, Furnishings & Fabrics in collaboration with European Designers\\n* A new communication on Ultima Protek in the NovPREMIUM CATEGORY\\n* Single Component PUD based fleece reinforced liquid applied coating for exposed terrace surfaces\\n\\nAdditionally, they mention that 2300+ new shades have been introduced, and 264 whites have also been added to their existing range.'"
      ]
     },
     "execution_count": 14,
     "metadata": {},
     "output_type": "execute_result"
    }
   ],
   "source": [
    "answer"
   ]
  },
  {
   "cell_type": "code",
   "execution_count": null,
   "metadata": {},
   "outputs": [],
   "source": []
  }
 ],
 "metadata": {
  "kernelspec": {
   "display_name": ".venv",
   "language": "python",
   "name": "python3"
  },
  "language_info": {
   "codemirror_mode": {
    "name": "ipython",
    "version": 3
   },
   "file_extension": ".py",
   "mimetype": "text/x-python",
   "name": "python",
   "nbconvert_exporter": "python",
   "pygments_lexer": "ipython3",
   "version": "3.12.1"
  }
 },
 "nbformat": 4,
 "nbformat_minor": 2
}
