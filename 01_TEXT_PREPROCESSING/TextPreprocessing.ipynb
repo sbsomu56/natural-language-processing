{
 "cells": [
  {
   "cell_type": "markdown",
   "metadata": {},
   "source": [
    "## Text pre-processing\n",
    "\n",
    "Steps for text pre-processing:\n",
    "\n",
    "- `Tokenization`: Convert paragraphs to sentences, sentences to words\n",
    "-  Lowercase all token\n",
    "- Use regular expressions to remove some special characters\n",
    "- Remove `stopwords`\n",
    "- `Stemming`/`Lemmazatization`"
   ]
  },
  {
   "cell_type": "markdown",
   "metadata": {},
   "source": [
    "Text to vector:\n",
    "\n",
    "- One hot encoding:\n",
    "- Bag of words (`BoW`)\n",
    "- `TF-IDF`\n",
    "- `Word2Vec`\n",
    "- `avgWord2Vec`"
   ]
  },
  {
   "cell_type": "markdown",
   "metadata": {},
   "source": []
  }
 ],
 "metadata": {
  "language_info": {
   "name": "python"
  }
 },
 "nbformat": 4,
 "nbformat_minor": 2
}
